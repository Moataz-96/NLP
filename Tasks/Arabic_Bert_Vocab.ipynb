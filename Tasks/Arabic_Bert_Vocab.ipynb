{
  "nbformat": 4,
  "nbformat_minor": 0,
  "metadata": {
    "colab": {
      "name": "Arabic Bert Vocab.ipynb",
      "provenance": [],
      "collapsed_sections": []
    },
    "kernelspec": {
      "name": "python3",
      "display_name": "Python 3"
    }
  },
  "cells": [
    {
      "cell_type": "code",
      "metadata": {
        "id": "7yq45sWl_laA",
        "colab_type": "code",
        "colab": {}
      },
      "source": [
        "!pip install pytorch-pretrained-bert\n",
        "!pip install transformers"
      ],
      "execution_count": 0,
      "outputs": []
    },
    {
      "cell_type": "code",
      "metadata": {
        "id": "Pw2AvvkQ_2jv",
        "colab_type": "code",
        "colab": {}
      },
      "source": [
        "import torch\n",
        "from pytorch_pretrained_bert import BertTokenizer\n",
        "from transformers import AutoTokenizer\n",
        "tokenizer = AutoTokenizer.from_pretrained(\"asafaya/bert-base-arabic\")"
      ],
      "execution_count": 0,
      "outputs": []
    },
    {
      "cell_type": "code",
      "metadata": {
        "id": "Sc3arf99ACF1",
        "colab_type": "code",
        "colab": {}
      },
      "source": [
        "with open(\"vocabulary.txt\", 'w') as f:\n",
        "    \n",
        "    # For each token...\n",
        "    for token in tokenizer_arabic.vocab.keys():\n",
        "        \n",
        "        # Write it out and escape any unicode characters.            \n",
        "        f.write(token + '\\n')"
      ],
      "execution_count": 0,
      "outputs": []
    },
    {
      "cell_type": "markdown",
      "metadata": {
        "id": "c8geTQ3Iidsv",
        "colab_type": "text"
      },
      "source": [
        "From perusing the vocab, I'm seeing that:\n",
        "\n",
        "* The first 999 tokens (1-indexed) appear to be reserved, and most are of the form [unused957].\n",
        "    * 1   - [PAD]\n",
        "    * 101 - [UNK]\n",
        "    * 102 - [CLS]\n",
        "    * 103 - [SEP]\n",
        "    * 104 - [MASK]\n",
        "* Rows 1000-1996 appear to be a dump of individual characters. \n",
        "    * They don't appear to be sorted by frequency (e.g., the letters of the alphabet are all in sequence).\n",
        "* The first word is \"the\" at position 1997.\n",
        "    * From there, the words appear to be sorted by frequency. \n",
        "    * The top ~18 words are whole words, and then number 2016 is ##s, presumably the most common subword.\n",
        "    * The last whole word is at 29612, \"necessitated\"\n",
        "\n",
        "Some funny inclusions:\n",
        "* starbucks\n",
        "* triassic\n",
        "* abolitionist\n",
        "* 1679"
      ]
    },
    {
      "cell_type": "markdown",
      "metadata": {
        "id": "Bu-KbpbR1L4q",
        "colab_type": "text"
      },
      "source": [
        "The following code prints out all of the single character tokens in vocabulary, as well as all of the single-character tokens preceded by '##'.\n",
        "\n",
        "It turns out that these are matching sets--for every standalone character there is also a '##' version. There are 997 single character tokens."
      ]
    },
    {
      "cell_type": "code",
      "metadata": {
        "id": "9CWxh7TSAp1y",
        "colab_type": "code",
        "colab": {}
      },
      "source": [
        "one_chars = []\n",
        "one_chars_hashes = []\n",
        "\n",
        "# For each token in the vocabulary...\n",
        "for token in tokenizer.vocab.keys():\n",
        "    \n",
        "    # Record any single-character tokens.\n",
        "    if len(token) == 1:\n",
        "        one_chars.append(token)\n",
        "    \n",
        "    # Record single-character tokens preceded by the two hashes.    \n",
        "    elif len(token) == 3 and token[0:2] == '##':\n",
        "        one_chars_hashes.append(token)\n"
      ],
      "execution_count": 0,
      "outputs": []
    },
    {
      "cell_type": "code",
      "metadata": {
        "id": "-_H5MCIBA0xM",
        "colab_type": "code",
        "colab": {
          "base_uri": "https://localhost:8080/",
          "height": 485
        },
        "outputId": "62f9b356-2f9c-47ea-b99f-cd8cac4052e5"
      },
      "source": [
        "print('Number of single character tokens:', len(one_chars), '\\n')\n",
        "\n",
        "# Print all of the single characters, 40 per row.\n",
        "\n",
        "# For every batch of 40 tokens...\n",
        "for i in range(0, len(one_chars), 40):\n",
        "    \n",
        "    # Limit the end index so we don't go past the end of the list.\n",
        "    end = min(i + 40, len(one_chars) + 1)\n",
        "    \n",
        "    # Print out the tokens, separated by a space.\n",
        "    print(' '.join(one_chars[i:end]))"
      ],
      "execution_count": 8,
      "outputs": [
        {
          "output_type": "stream",
          "text": [
            "Number of single character tokens: 1000 \n",
            "\n",
            "! \" # $ % & ' ( ) * + , - . / 0 1 2 3 4 5 6 7 8 9 : ; < = > ? @ [ \\ ] ^ _ ` a b\n",
            "c d e f g h i j k l m n o p q r s t u v w x y z { | } ~ ¡ ¢ £ ¤ ¥ ¦ § ¨ © ª « ¬\n",
            "® ¯ ° ± ² ³ ´ µ ¶ · ¸ ¹ º » ¼ ½ ¾ ¿ × ß æ ð ÷ ø þ đ ı ĸ ł ŋ œ ŧ ƒ ǁ ə ʃ ʘ ʶ ʿ ˆ\n",
            "ˉ ˙ ˚ ˛ ˜ α β γ δ ε ζ η θ ι κ λ μ ν ξ ο π ρ ς σ τ υ φ χ ψ ω ϡ а б в г д е ж з и\n",
            "к л м н о п р с т у ф х ц ч ш щ ъ ы ь э ю я ђ є ѕ і ѽ ҈ ҉ ғ җ қ ҳ ա ե ն ր ־ א ב\n",
            "ג ד ה ו ז ח ט י כ ל ם מ ן נ ס ע פ ץ צ ק ר ש ת װ ״ ، ؛ ؟ ء ا ب ة ت ث ج ح خ د ذ ر\n",
            "ز س ش ص ض ط ظ ع غ ـ ف ق ك ل م ن ه و ى ي ٠ ١ ٢ ٣ ٤ ٥ ٦ ٧ ٨ ٩ ٪ ٫ ٬ ٭ ٱ ٲ ٳ ٹ ٺ ٻ\n",
            "ټ پ چ ڈ ڋ ڑ ڔ ڕ ژ ڙ ڛ ڠ ڤ ڨ ک ڪ ڬ ڭ گ ڳ ڵ ڷ ڸ ڹ ں ڼ ھ ہ ۃ ۅ ۆ ۇ ۈ ۉ ۋ ی ێ ې ۑ ے\n",
            "۔ ە ۞ ۩ ۰ ۱ ۲ ۳ ۴ ۵ ۶ ۷ ۸ ۹ ܐ ܓ ܔ ܝ ܨ ܪ ऋ क द न र ह ा ि ी ॐ १ ঔ ন র া ি ে ৲ ৴ ৵\n",
            "ਿ ੀ ઇ હ ஃ இ ஊ ஐ ஓ ஜ ண த ஷ ஹ ி ಏ ಞ ೂ ೕ ก ค ง ฒ ด ต ท น บ ป ม ย ร ล ว ส ห อ ะ า ฿\n",
            "เ แ ไ ๏ ๑ ༄ ა დ ი ო რ ღ წ ჲ ჻ ᄀ ᄂ ᄃ ᄅ ᄆ ᄇ ᄉ ᄋ ᄌ ᄎ ᄐ ᄒ ᅡ ᅢ ᅥ ᅦ ᅧ ᅩ ᅪ ᅮ ᅳ ᅵ ᆨ ᆫ ᆯ\n",
            "ᆷ ᆼ ᵜ – — ‗ ‘ ’ ‚ “ ” „ † ‡ • … ‰ ″ ‹ › ‼ ‾ ‿ ⁄ ₡ ₩ ₪ ₫ € ₹ ⃣ ℃ ℓ ™ ← ↑ → ↓ ↕ ↵\n",
            "⇒ − ∕ ∙ √ ∞ ∥ ∫ ≈ ≡ ⊰ ⊱ ⋘ ⋰ ⋱ ⌐ │ ┣ ┨ ┫ ═ ║ ╔ ╗ ╚ ╝ ╠ ╣ ╬ ▁ ▂ ▃ ▅ ▆ ▇ █ ▌ ▏ ▐ ░\n",
            "▒ ▓ ■ ▣ ▪ ▫ ▬ ▲ ▶ ▷ ► ▼ ◀ ◁ ◄ ◆ ◇ ◊ ○ ● ◐ ◑ ◕ ◘ ◙ ◢ ◣ ◥ ◦ ☀ ☂ ★ ☆ ☎ ☏ ☜ ☞ ☺ ☻ ☼\n",
            "♀ ♂ ♔ ♕ ♛ ♞ ♠ ♡ ♣ ♥ ♦ ♨ ♩ ♪ ♫ ♬ ♭ ⚐ ⚑ ⚛ ⚜ ⚽ ✅ ✉ ✍ ✎ ✒ ✓ ✔ ✖ ✣ ✦ ✨ ✲ ✽ ✿ ❀ ❁ ❊ ❌\n",
            "❖ ❝ ❞ ❣ ❤ ❥ ➖ ➞ ⟰ ⠀ ⦁ ⭐ ⴰ ⴷ ⴼ ⵉ ⵍ ⵎ ⵏ ⵓ ⵔ ⵙ ⵜ 、 。 《 》 「 」 【 】 〖 〗 あ い う お か き く\n",
            "け こ さ し す そ た っ つ て と な に の は ま み め も や よ ら り る れ を ん ゜ ア イ ウ ェ カ キ ク コ サ シ ス タ\n",
            "ッ ツ テ ト ニ ハ ヒ フ ヘ ホ マ ミ ム メ ョ ラ リ ル レ ロ ン ・ ー ㄨ ㅤ ㋡ 一 三 上 下 不 业 个 中 为 乀 乂 么 买 了\n",
            "争 事 二 人 什 以 件 会 体 作 信 全 公 六 内 出 分 利 到 化 原 发 可 台 号 司 合 同 名 吗 和 品 国 图 在 地 坛 备 多 大\n",
            "天 奖 女 子 学 安 官 家 小 山 工 市 平 年 开 彡 彩 微 心 快 怎 性 情 成 我 手 提 文 料 新 方 日 时 是 時 最 月 有 期 本\n",
            "机 来 果 水 法 港 爱 版 物 特 玩 现 球 理 生 用 电 的 盒 真 码 社 神 票 站 等 结 网 美 者 能 自 行 要 語 计 论 设 资 软\n",
            "载 这 道 部 里 金 需 霸 香 高 ﬗ ﭬ ﮧ ﮯ ﯛ ﯣ ﯾ ﯿ ﴾ ﴿ ﷲ ﷺ ﺀ ﺂ ﺃ ﺄ ﺆ ﺇ ﺋ ﺌ ﺍ ﺎ ﺏ ﺐ ﺑ ﺒ ﺓ ﺔ ﺕ ﺖ\n",
            "ﺗ ﺘ ﺛ ﺜ ﺟ ﺠ ﺣ ﺤ ﺧ ﺨ ﺩ ﺪ ﺫ ﺬ ﺭ ﺮ ﺯ ﺰ ﺱ ﺲ ﺳ ﺴ ﺷ ﺸ ﺹ ﺻ ﺼ ﺽ ﺿ ﻀ ﻁ ﻃ ﻄ ﻈ ﻉ ﻊ ﻋ ﻌ ﻏ ﻐ\n",
            "ﻒ ﻓ ﻔ ﻕ ﻖ ﻗ ﻘ ﻚ ﻛ ﻜ ﻝ ﻞ ﻟ ﻠ ﻡ ﻢ ﻣ ﻤ ﻥ ﻦ ﻧ ﻨ ﻩ ﻪ ﻫ ﻬ ﻭ ﻮ ﻰ ﻱ ﻲ ﻳ ﻴ ﻵ ﻷ ﻸ ﻹ ﻻ ﻼ ！\n",
            "（ ） ， ： ＠ ｡ ￼ 🇦 🇸 🌟 🌷 🌸 🌹 🌻 🍃 🏻 🏼 👇 👈 👌 👍 👏 💔 💕 💖 💙 💚 💜 💥 💯 🔥 🔴 🕔 😂 😊 😍 😘 😭 🙂 🤣\n"
          ],
          "name": "stdout"
        }
      ]
    },
    {
      "cell_type": "code",
      "metadata": {
        "id": "Gw5dDCBSBDRC",
        "colab_type": "code",
        "colab": {
          "base_uri": "https://localhost:8080/",
          "height": 381
        },
        "outputId": "b247ebf9-0847-4b6d-f4ae-3a32cd84c078"
      },
      "source": [
        "print('Number of single character tokens with hashes:', len(one_chars_hashes), '\\n')\n",
        "\n",
        "# Print all of the single characters, 40 per row.\n",
        "\n",
        "# Strip the hash marks, since they just clutter the display.\n",
        "tokens = [token.replace('##', '') for token in one_chars_hashes]\n",
        "\n",
        "# For every batch of 40 tokens...\n",
        "for i in range(0, len(tokens), 40):\n",
        "    \n",
        "    # Limit the end index so we don't go past the end of the list.\n",
        "    end = min(i + 40, len(tokens) + 1)\n",
        "    \n",
        "    # Print out the tokens, separated by a space.\n",
        "    print(' #'.join(tokens[i:end]))"
      ],
      "execution_count": 9,
      "outputs": [
        {
          "output_type": "stream",
          "text": [
            "Number of single character tokens with hashes: 749 \n",
            "\n",
            "e #s #o #p #l #ي #د #ل #ر #ز #س #ـ #ح #و #ا #ك #ج #ن #م #i #r #c #t #خ #h #m #a #ع #ه #ش #ص #ف #ق #ب #ط #ى #3 #4 #7 #ء\n",
            "ت #ض #ة #n #y #j #k #8 #1 #u #g #0 #6 #5 #ث #2 #غ #ظ #ھ #b #v #q #z #ł #w #x #d #9 #ذ #f #ی #٠ #¤ #ᅧ #ᆼ #ᄋ #ᅮ #а #р #ь\n",
            "е #н #ы #👏 #१ #и #м #о #ڤ #🌹 #ﻷ #ﻴ #ﻜ #ﻨ #ﻲ #👍 #ٱ #あ #る #け #た #か #ら #➖ #л #к #г #€ #™ #র #া #ন #پ #ﻟ #ﻤ #ﻌ #ﺎ #ﻣ #ﻠ #ە\n",
            "گ #т #б #у #п #с #٢ #🏼 #ﻳ #χ #ε #τ #ι #ζ #ο #ν #α #٦ #٩ #٧ #ۃ #न #ﺘ #ﺤ #ﻬ #٥ #і #х #ю #๑ #в #я #ﺨ #ﺼ #ﺔ #ч #٣ #ш #ョ #ロ\n",
            "œ #ﻻ #♫ #٤ #١ #ﻧ #ک #す #く #に #۶ #۳ #ﻫ #ﻔ #ﻦ #ա #ր #ն #з #д #ж #い #う #こ #と #を #て #® #ﻥ #ﻮ #ﺛ #ﺋ #ﻖ #³ #× #ے #ि #द #ी #→\n",
            "め #の #ト #ラ #イ #ー #ﻢ #ミ #♡ #چ #ə #ı #ﺗ #ڑ #ﯾ #щ #ﺒ #● #ﺭ #ﻪ #ᅡ #ᆷ #ᄌ #ᅩ #ᄉ #ᅥ #ᆫ #ﻹ #ﺠ #ﺰ #ﻱ #ב #י #ת #ღ #ﺧ #ﻼ #き #😂 #מ\n",
            "ל #ו #נ #۱ #۸ #۴ #も #よ #ц #´ #° #ה #ש #า #ว #ร #ก #ล #ф #ڭ #ﻓ #ﺪ #ﺮ #ﻩ #し #お #ア #ク #ﻃ #э #ہ #ﺳ #ﺲ #ﻭ #ڷ #♛ #▪ #ﮧ #ﺜ #٨\n",
            "ﺿ #ﺍ #ﺏ #ﭬ #ি #ย #ח #۩ #ø #😍 #ˆ #¦ #¥ #פ #ד #ে #ѕ #ﺩ #💚 #れ #ま #っ #は #ﺻ #ﺣ #◦ #♥ #ஓ #ᄆ #ᅵ #ᅳ #ٹ #ڈ #テ #サ #ン #さ #フ #🤣 #💥\n",
            "ڛ #ٺ #ڹ #💔 #ᅪ #ᄐ #ホ #リ #ム #ᆯ #ᄇ #ᄂ #ᅦ #ᆨ #💕 #☆ #ۆ #🏻 #タ #ヘ #ス #σ #η #μ #დ #ა #ი #₪ #ҳ #ŋ #ﺴ #ۉ #ڼ #ۅ #◄ #ニ #カ #ル #レ #ﻞ\n",
            "ڪ #ר #ט #ッ #ڵ #ᄒ #۞ #¹ #マ #ᄃ #ᄀ #ᄅ #ﻄ #² #ไ #ท #ო #რ #✖ #☜ #ﻈ #ª #¬ #± #¨ #© #◆ #צ #ﺫ #ะ #ม #อ #เ #ง #ห #แ #น #❤ #א #シ\n",
            "✨ #ק #υ #λ #ρ #ﺕ #ा #ע #ﺸ #ﺓ #đ #ס #ð #¯ #ۈ #қ #コ #ส #¢ #½ #µ #ڸ #บ #ם #ﺀ #ٲ #🔥 #◇ #ں #ﺟ #º #θ #γ #ﺑ #ﻘ #💙 #ᅢ #◢ #▬ #な\n",
            "۵ #۹ #♠ #ⴰ #ⵏ #ﻵ #۰ #ﻛ #ﺯ #ƒ #🌷 #🍃 #🌻 #🌸 #ᄎ #ژ #ß #¸ #ﻝ #👇 #ʿ #ﻒ #ﻁ #✿ #メ #π #ς #ต #ด #ﻰ #┫ #★ #┣ #ﻐ #÷ #δ #κ #¾ #ן #۲\n",
            "ん #ェ #り #ﮯ #₹ #כ #ﺂ #ܐ #👈 #ڠ #ۋ #ﺷ #ﻋ #− #✓ #ﻊ #ﺬ #є #˚ #र #ﷲ #║ #ﺐ #ڬ #🌟 #💯 #つ #˜ #🔴 #ป #£ #ヒ #◊ #۷ #や #ハ #ค #ғ #ٳ #ω\n",
            "ﺄ #ﻗ #ג #ﻚ #ﻡ #φ #ਿ #ψ #│ #♣ #ێ #ஐ #ℓ #ﻀ #😭 #そ #இ #ե #☂ #🇸 #💜 #ⵙ #ⵉ #ⴼ #ﻉ #ウ #♀ #ڨ #◑ #æ #ﻏ #ﯿ #🇦 #ڳ #☼ #▇ #▆ #▅ #▃ #▂\n",
            "▁ #ﬗ #✔ #ঔ #ڕ #∞ #क #╣ #ੀ #ி #ܪ #ܝ #ъ #█ #▓ #▒ #░ #ﺱ #み #¼ #キ #❀ #ٻ #⚽ #♂ #ﺇ #► #√ #ﺃ #ツ #ஜ #▲ #💖 #ﺖ #β #ﺹ #╗ #ŧ #ﻕ #♪\n",
            "￼ #❥ #👌 #ξ #ђ #▌ #✅ #■ #😘 #▼ #⃣ #⁄ #ڙ #ⵎ #ⵔ #✦ #← #ۑ #☺ #ڔ #ې #❣ #ܔ #ז #⭐ #ϡ #ㅤ #ﺆ #த #ﺌ #ܨ #ܓ #ઇ #❌ #☞ #ץ #▫ #ⵓ #ⵍ #ﷺ\n",
            "🙂 #○ #˛ #╠ #∕ #∫ #℃ #ﺽ #❊ #↓ #ೂ #ೕ #☻ #⠀ #♦ #ۇ #╝ #😊 #ह #≈ #җ #❝ #▏ #◐ #ʃ #ॐ #þ #◀ #▶ #☎ #ஃ #ㄨ #ⵜ #ⴷ #წ #ټ #৲ #৴ #ﻸ #☀\n",
            "⋰ #ฒ #❁ #♩ #ﯛ #❖ #✍ #╬ #⋘ #ˉ #◣ #ண #ĸ #┨ #↑ #ѽ #∙ #◘ #҉ #ǁ #⚜ #₡ #═ #╔ #⇒ #ஷ #ஹ #ڋ #▐ #♭ #฿ #◕ #♔ #╚ #⊰ #ﯣ #↕ #▷ #ಞ #ஊ\n",
            "㋡ #✲ #હ #♨ #˙ #♕ #ʘ #♬ #✒ #ჲ #◙ #ऋ #₩ #≡ #✎ #҈ #✉ #◥ #♞ #⊱ #₫ #⋱ #◁ #✽ #ʶ #⚑ #৵ #∥ #װ\n"
          ],
          "name": "stdout"
        }
      ]
    },
    {
      "cell_type": "code",
      "metadata": {
        "id": "opj4Ry8SBMPm",
        "colab_type": "code",
        "colab": {
          "base_uri": "https://localhost:8080/",
          "height": 35
        },
        "outputId": "5dc8d897-d13c-40ed-893c-81dbd98980e4"
      },
      "source": [
        "print('Are the two sets identical?', set(one_chars) == set(tokens))\n",
        "#1000 - 749 ) 7rf msh mwgod zyhom fe nos el klma"
      ],
      "execution_count": 10,
      "outputs": [
        {
          "output_type": "stream",
          "text": [
            "Are the two sets identical? False\n"
          ],
          "name": "stdout"
        }
      ]
    },
    {
      "cell_type": "markdown",
      "metadata": {
        "id": "uPnW2RetYc97",
        "colab_type": "text"
      },
      "source": [
        "### Subwords vs. Whole-words\n",
        "Let's gather some statistics on the vocabulary.\n",
        "\n"
      ]
    },
    {
      "cell_type": "code",
      "metadata": {
        "id": "7q54MtHcB9GF",
        "colab_type": "code",
        "colab": {
          "base_uri": "https://localhost:8080/",
          "height": 444
        },
        "outputId": "46576c29-a0a2-4196-fb71-7c80ede5c2f4"
      },
      "source": [
        "import matplotlib.pyplot as plt\n",
        "import seaborn as sns\n",
        "import numpy as np\n",
        "\n",
        "sns.set(style='darkgrid')\n",
        "\n",
        "# Increase the plot size and font size.\n",
        "sns.set(font_scale=1.5)\n",
        "plt.rcParams[\"figure.figsize\"] = (10,5)\n",
        "\n",
        "# Measure the length of every token in the vocab.\n",
        "token_lengths = [len(token) for token in tokenizer.vocab.keys()]\n",
        "\n",
        "# Plot the number of tokens of each length.\n",
        "sns.countplot(token_lengths)\n",
        "plt.title('Vocab Token Lengths')\n",
        "plt.xlabel('Token Length')\n",
        "plt.ylabel('# of Tokens')\n",
        "\n",
        "print('Maximum token length:', max(token_lengths))\n",
        "#aktr el klmat 5 7rof w feh klmat 34 7rf"
      ],
      "execution_count": 11,
      "outputs": [
        {
          "output_type": "stream",
          "text": [
            "/usr/local/lib/python3.6/dist-packages/statsmodels/tools/_testing.py:19: FutureWarning: pandas.util.testing is deprecated. Use the functions in the public API at pandas.testing instead.\n",
            "  import pandas.util.testing as tm\n"
          ],
          "name": "stderr"
        },
        {
          "output_type": "stream",
          "text": [
            "Maximum token length: 34\n"
          ],
          "name": "stdout"
        },
        {
          "output_type": "display_data",
          "data": {
            "image/png": "[encoded data removed]",
            "text/plain": [
              "<Figure size 720x360 with 1 Axes>"
            ]
          },
          "metadata": {
            "tags": []
          }
        }
      ]
    },
    {
      "cell_type": "markdown",
      "metadata": {
        "colab_type": "text",
        "id": "4fpROwzmCziN"
      },
      "source": [
        "Let's look at just the tokens which begin with '##'."
      ]
    },
    {
      "cell_type": "code",
      "metadata": {
        "id": "69Vf46p-Ym97",
        "colab_type": "code",
        "colab": {}
      },
      "source": [
        "num_subwords = 0\n",
        "\n",
        "subword_lengths = []\n",
        "\n",
        "# For each token in the vocabulary...\n",
        "for token in tokenizer.vocab.keys():\n",
        "    \n",
        "    # If it's a subword...\n",
        "    if len(token) >= 2 and token[0:2] == '##':\n",
        "        \n",
        "        # Tally all subwords\n",
        "        num_subwords += 1\n",
        "\n",
        "        # Measure the sub word length (without the hashes)\n",
        "        length = len(token) - 2\n",
        "\n",
        "        # Record the lengths.        \n",
        "        subword_lengths.append(length)\n"
      ],
      "execution_count": 0,
      "outputs": []
    },
    {
      "cell_type": "markdown",
      "metadata": {
        "id": "lakK1gF-S1Ej",
        "colab_type": "text"
      },
      "source": [
        "How many '##' tokens are there vs. the full vocab?"
      ]
    },
    {
      "cell_type": "code",
      "metadata": {
        "id": "PJh6wl2bSzaC",
        "colab_type": "code",
        "outputId": "1f365813-e255-4baa-b5db-b25bbece5900",
        "colab": {
          "base_uri": "https://localhost:8080/",
          "height": 52
        }
      },
      "source": [
        "vocab_size = len(tokenizer.vocab.keys())\n",
        "\n",
        "print('Number of subwords: {:,} of {:,}'.format(num_subwords, vocab_size))\n",
        "\n",
        "# Calculate the percentage of words that are '##' subwords.\n",
        "prcnt = float(num_subwords) / vocab_size * 100.0\n",
        "\n",
        "print('%.1f%%' % prcnt)"
      ],
      "execution_count": 13,
      "outputs": [
        {
          "output_type": "stream",
          "text": [
            "Number of subwords: 6,946 of 32,000\n",
            "21.7%\n"
          ],
          "name": "stdout"
        }
      ]
    },
    {
      "cell_type": "markdown",
      "metadata": {
        "id": "fj_AcObWS-1S",
        "colab_type": "text"
      },
      "source": [
        "Plot the subword lengths (not including the two '##' characters)."
      ]
    },
    {
      "cell_type": "code",
      "metadata": {
        "id": "fO1GeFbhSyhD",
        "colab_type": "code",
        "outputId": "79f3f95f-9bb7-4b68-f5f8-2fa3fc4c28ad",
        "colab": {
          "base_uri": "https://localhost:8080/",
          "height": 389
        }
      },
      "source": [
        "sns.countplot(subword_lengths)\n",
        "plt.title('Subword Token Lengths (w/o \"##\")')\n",
        "plt.xlabel('Subword Length')\n",
        "plt.ylabel('# of ## Subwords')\n",
        "#3 7rof mn wst el klma aktr 7aga motshabha"
      ],
      "execution_count": 14,
      "outputs": [
        {
          "output_type": "execute_result",
          "data": {
            "text/plain": [
              "Text(0, 0.5, '# of ## Subwords')"
            ]
          },
          "metadata": {
            "tags": []
          },
          "execution_count": 14
        },
        {
          "output_type": "display_data",
          "data": {
            "image/png": "[encoded data removed]",
            "text/plain": [
              "<Figure size 720x360 with 1 Axes>"
            ]
          },
          "metadata": {
            "tags": []
          }
        }
      ]
    },
    {
      "cell_type": "markdown",
      "metadata": {
        "id": "gCDYsO8qyepC",
        "colab_type": "text"
      },
      "source": [
        "### Misspellings"
      ]
    },
    {
      "cell_type": "code",
      "metadata": {
        "id": "p-n_ObF14sh3",
        "colab_type": "code",
        "outputId": "4c2d4427-2621-4eaa-df4c-8f1691d695db",
        "colab": {
          "base_uri": "https://localhost:8080/",
          "height": 35
        }
      },
      "source": [
        "'معتز' in tokenizer.vocab # Right"
      ],
      "execution_count": 17,
      "outputs": [
        {
          "output_type": "execute_result",
          "data": {
            "text/plain": [
              "True"
            ]
          },
          "metadata": {
            "tags": []
          },
          "execution_count": 17
        }
      ]
    },
    {
      "cell_type": "code",
      "metadata": {
        "id": "FnUu6C_VjTVQ",
        "colab_type": "code",
        "outputId": "094ea3c4-7a90-49ab-cc6b-4af32a3bb6bf",
        "colab": {
          "base_uri": "https://localhost:8080/",
          "height": 35
        }
      },
      "source": [
        "'امعتز' in tokenizer.vocab # Wrong"
      ],
      "execution_count": 19,
      "outputs": [
        {
          "output_type": "execute_result",
          "data": {
            "text/plain": [
              "False"
            ]
          },
          "metadata": {
            "tags": []
          },
          "execution_count": 19
        }
      ]
    },
    {
      "cell_type": "code",
      "metadata": {
        "id": "GrKICg1y45Rz",
        "colab_type": "code",
        "outputId": "b1c6660d-8d9b-4854-e136-f2f273c023bd",
        "colab": {
          "base_uri": "https://localhost:8080/",
          "height": 35
        }
      },
      "source": [
        "'مهندس' in tokenizer.vocab # Right"
      ],
      "execution_count": 21,
      "outputs": [
        {
          "output_type": "execute_result",
          "data": {
            "text/plain": [
              "True"
            ]
          },
          "metadata": {
            "tags": []
          },
          "execution_count": 21
        }
      ]
    },
    {
      "cell_type": "code",
      "metadata": {
        "id": "fO72IlrU5I8t",
        "colab_type": "code",
        "outputId": "c8f216b2-b2a4-4cd2-827a-bb4f23703a82",
        "colab": {
          "base_uri": "https://localhost:8080/",
          "height": 34
        }
      },
      "source": [
        "'هندسه' in tokenizer.vocab # Wrong"
      ],
      "execution_count": 0,
      "outputs": [
        {
          "output_type": "execute_result",
          "data": {
            "text/plain": [
              "False"
            ]
          },
          "metadata": {
            "tags": []
          },
          "execution_count": 15
        }
      ]
    },
    {
      "cell_type": "code",
      "metadata": {
        "id": "FfqU2qbpjubX",
        "colab_type": "code",
        "outputId": "441c8126-402e-49ea-ded5-88cea962f870",
        "colab": {
          "base_uri": "https://localhost:8080/",
          "height": 35
        }
      },
      "source": [
        "'مدرسة' in tokenizer.vocab # Right"
      ],
      "execution_count": 26,
      "outputs": [
        {
          "output_type": "execute_result",
          "data": {
            "text/plain": [
              "True"
            ]
          },
          "metadata": {
            "tags": []
          },
          "execution_count": 26
        }
      ]
    },
    {
      "cell_type": "code",
      "metadata": {
        "id": "Cvzy-sMsjs5P",
        "colab_type": "code",
        "outputId": "7fbde10b-ee47-495f-c05a-8721144ab32f",
        "colab": {
          "base_uri": "https://localhost:8080/",
          "height": 35
        }
      },
      "source": [
        "'مدرسه' in tokenizer.vocab # Wrong #el klmat el mktopa 3'lt msh mwgoda dah 3shan gya mn books"
      ],
      "execution_count": 25,
      "outputs": [
        {
          "output_type": "execute_result",
          "data": {
            "text/plain": [
              "False"
            ]
          },
          "metadata": {
            "tags": []
          },
          "execution_count": 25
        }
      ]
    },
    {
      "cell_type": "code",
      "metadata": {
        "id": "WkqxG-675A1c",
        "colab_type": "code",
        "outputId": "81d5f64c-613b-4ec3-94b9-45abb67c7d0f",
        "colab": {
          "base_uri": "https://localhost:8080/",
          "height": 34
        }
      },
      "source": [
        "'separate' in tokenizer.vocab # Right"
      ],
      "execution_count": 0,
      "outputs": [
        {
          "output_type": "execute_result",
          "data": {
            "text/plain": [
              "True"
            ]
          },
          "metadata": {
            "tags": []
          },
          "execution_count": 18
        }
      ]
    },
    {
      "cell_type": "code",
      "metadata": {
        "id": "ziFBjur15GHg",
        "colab_type": "code",
        "outputId": "1fb3d72c-daa1-40a4-bfeb-c59dad2d9744",
        "colab": {
          "base_uri": "https://localhost:8080/",
          "height": 34
        }
      },
      "source": [
        "'seperate' in tokenizer.vocab # Wrong"
      ],
      "execution_count": 0,
      "outputs": [
        {
          "output_type": "execute_result",
          "data": {
            "text/plain": [
              "False"
            ]
          },
          "metadata": {
            "tags": []
          },
          "execution_count": 19
        }
      ]
    },
    {
      "cell_type": "markdown",
      "metadata": {
        "id": "-KZHPgVsSgvz",
        "colab_type": "text"
      },
      "source": [
        "What about contractions?"
      ]
    },
    {
      "cell_type": "code",
      "metadata": {
        "id": "VvUru5j3jxm2",
        "colab_type": "code",
        "outputId": "efcf2d4d-3034-47c7-df5e-4575afe89f53",
        "colab": {
          "base_uri": "https://localhost:8080/",
          "height": 35
        }
      },
      "source": [
        "\"استاذ\" in tokenizer.vocab"
      ],
      "execution_count": 31,
      "outputs": [
        {
          "output_type": "execute_result",
          "data": {
            "text/plain": [
              "True"
            ]
          },
          "metadata": {
            "tags": []
          },
          "execution_count": 31
        }
      ]
    },
    {
      "cell_type": "code",
      "metadata": {
        "id": "wl_l2xKwj0_l",
        "colab_type": "code",
        "outputId": "70ad367f-719f-434d-90d3-21a235842b25",
        "colab": {
          "base_uri": "https://localhost:8080/",
          "height": 35
        }
      },
      "source": [
        "\"أستاذ\" in tokenizer.vocab"
      ],
      "execution_count": 32,
      "outputs": [
        {
          "output_type": "execute_result",
          "data": {
            "text/plain": [
              "False"
            ]
          },
          "metadata": {
            "tags": []
          },
          "execution_count": 32
        }
      ]
    },
    {
      "cell_type": "markdown",
      "metadata": {
        "id": "RE4TqKOlykJD",
        "colab_type": "text"
      },
      "source": [
        "### Start vs. Mid Subwords\n",
        "\n",
        "For single characters, there are both the individual character and the '##' version for every character. Is the same true of subwords?"
      ]
    },
    {
      "cell_type": "code",
      "metadata": {
        "id": "_Xf9FH7HWZya",
        "colab_type": "code",
        "outputId": "268b57e2-55ec-4f4d-ff3f-3e82b66a581e",
        "colab": {
          "base_uri": "https://localhost:8080/",
          "height": 35
        }
      },
      "source": [
        "# For each token in the vocabulary...\n",
        "for token in tokenizer.vocab.keys():\n",
        "    \n",
        "    # If it's a subword...\n",
        "    if len(token) >= 2 and token[0:2] == '##':\n",
        "        if not token[2:] in tokenizer.vocab:\n",
        "            print('Did not find a token for', token[2:])\n",
        "            break"
      ],
      "execution_count": 33,
      "outputs": [
        {
          "output_type": "stream",
          "text": [
            "Did not find a token for ية\n"
          ],
          "name": "stdout"
        }
      ]
    },
    {
      "cell_type": "code",
      "metadata": {
        "id": "0rPGb9z8SmYn",
        "colab_type": "code",
        "outputId": "9db7346f-fae1-4a6a-da4d-b23da18560c6",
        "colab": {
          "base_uri": "https://localhost:8080/",
          "height": 35
        }
      },
      "source": [
        "'##ون' in tokenizer.vocab #يلعبون"
      ],
      "execution_count": 35,
      "outputs": [
        {
          "output_type": "execute_result",
          "data": {
            "text/plain": [
              "True"
            ]
          },
          "metadata": {
            "tags": []
          },
          "execution_count": 35
        }
      ]
    },
    {
      "cell_type": "code",
      "metadata": {
        "id": "wUmQwKqfWx9K",
        "colab_type": "code",
        "outputId": "18b1cfd6-8511-4a5d-f151-387987ebea5e",
        "colab": {
          "base_uri": "https://localhost:8080/",
          "height": 35
        }
      },
      "source": [
        "'ان' in tokenizer.vocab"
      ],
      "execution_count": 36,
      "outputs": [
        {
          "output_type": "execute_result",
          "data": {
            "text/plain": [
              "True"
            ]
          },
          "metadata": {
            "tags": []
          },
          "execution_count": 36
        }
      ]
    },
    {
      "cell_type": "markdown",
      "metadata": {
        "id": "PRaaspCfyqsY",
        "colab_type": "text"
      },
      "source": [
        "### Names\n",
        "\n"
      ]
    },
    {
      "cell_type": "code",
      "metadata": {
        "id": "s7OLeBs_zBiR",
        "colab_type": "code",
        "outputId": "3bbf6ae5-0e91-4b62-b361-9832b8cec6f1",
        "colab": {
          "base_uri": "https://localhost:8080/",
          "height": 168
        }
      },
      "source": [
        "!pip install wget"
      ],
      "execution_count": 0,
      "outputs": [
        {
          "output_type": "stream",
          "text": [
            "Collecting wget\n",
            "  Downloading https://files.pythonhosted.org/packages/47/6a/62e288da7bcda82b935ff0c6cfe542970f04e29c756b0e147251b2fb251f/wget-3.2.zip\n",
            "Building wheels for collected packages: wget\n",
            "  Building wheel for wget (setup.py) ... \u001b[?25l\u001b[?25hdone\n",
            "  Created wheel for wget: filename=wget-3.2-cp36-none-any.whl size=9681 sha256=97fcba8d47d5f818c5e3dc4b5c355474c4337b758065355989ee2b40ca73ed15\n",
            "  Stored in directory: /root/.cache/pip/wheels/40/15/30/7d8f7cea2902b4db79e3fea550d7d7b85ecb27ef992b618f3f\n",
            "Successfully built wget\n",
            "Installing collected packages: wget\n",
            "Successfully installed wget-3.2\n"
          ],
          "name": "stdout"
        }
      ]
    },
    {
      "cell_type": "code",
      "metadata": {
        "id": "9Mac6NiYys4g",
        "colab_type": "code",
        "outputId": "941f034e-9ed9-467a-a549-9cd8b94fe01b",
        "colab": {
          "base_uri": "https://localhost:8080/",
          "height": 50
        }
      },
      "source": [
        "import wget\n",
        "import random \n",
        "\n",
        "print('Beginning file download with wget module')\n",
        "\n",
        "url = 'http://www.gutenberg.org/files/3201/files/NAMES.TXT'\n",
        "wget.download(url, 'first-names.txt')\n"
      ],
      "execution_count": 0,
      "outputs": [
        {
          "output_type": "stream",
          "text": [
            "Beginning file download with wget module\n"
          ],
          "name": "stdout"
        },
        {
          "output_type": "execute_result",
          "data": {
            "text/plain": [
              "'first-names.txt'"
            ]
          },
          "metadata": {
            "tags": []
          },
          "execution_count": 26
        }
      ]
    },
    {
      "cell_type": "code",
      "metadata": {
        "id": "FHF1JgrqY7Zi",
        "colab_type": "code",
        "outputId": "5cea3afc-b61a-437b-dd26-dcb4d30b7e3e",
        "colab": {
          "base_uri": "https://localhost:8080/",
          "height": 50
        }
      },
      "source": [
        "# Read them in.\n",
        "with open('first-names.txt', 'rb') as f:\n",
        "    names_encoded = f.readlines()\n",
        "\n",
        "names = []\n",
        "\n",
        "# Decode the names, convert to lowercase, and strip newlines.\n",
        "for name in names_encoded:\n",
        "    try:\n",
        "        names.append(name.rstrip().lower().decode('utf-8'))\n",
        "    except:\n",
        "        continue\n",
        "\n",
        "print('Number of names: {:,}'.format(len(names)))\n",
        "print('Example:', random.choice(names))\n"
      ],
      "execution_count": 0,
      "outputs": [
        {
          "output_type": "stream",
          "text": [
            "Number of names: 21,985\n",
            "Example: umberto\n"
          ],
          "name": "stdout"
        }
      ]
    },
    {
      "cell_type": "code",
      "metadata": {
        "id": "6heL05KQzmCa",
        "colab_type": "code",
        "outputId": "922c4cf9-bbb6-43a3-9b32-f24e4c8a998f",
        "colab": {
          "base_uri": "https://localhost:8080/",
          "height": 34
        }
      },
      "source": [
        "num_names = 0\n",
        "\n",
        "# For each name in our list...\n",
        "for name in names:\n",
        "\n",
        "    # If it's in the vocab...\n",
        "    if name in tokenizer.vocab:\n",
        "        # Tally it.\n",
        "        num_names += 1\n",
        "\n",
        "print('{:,} names in the vocabulary'.format(num_names))"
      ],
      "execution_count": 0,
      "outputs": [
        {
          "output_type": "stream",
          "text": [
            "3,869 names in the vocabulary\n"
          ],
          "name": "stdout"
        }
      ]
    },
    {
      "cell_type": "markdown",
      "metadata": {
        "id": "BM99iB36RAxX",
        "colab_type": "text"
      },
      "source": [
        "**Further Research**\n",
        "* Add more modern names\n",
        "    * This repo / file contains some more modern names. The file download isn't working, though.\n",
        "    * `https://raw.githubusercontent.com/arineng/arincli/master/lib/male-first-names.txt`\n",
        "* Add common names from other languages.\n"
      ]
    },
    {
      "cell_type": "markdown",
      "metadata": {
        "id": "3HGvwsy0ynkq",
        "colab_type": "text"
      },
      "source": [
        "### Numbers"
      ]
    },
    {
      "cell_type": "code",
      "metadata": {
        "id": "h5T_-gfQZKm6",
        "colab_type": "code",
        "outputId": "cfa1eb34-095e-4cdf-e4ea-006e62faa29b",
        "colab": {
          "base_uri": "https://localhost:8080/",
          "height": 34
        }
      },
      "source": [
        "# Count how many numbers are in the vocabulary.\n",
        "count = 0\n",
        "\n",
        "# For each token in the vocabulary...\n",
        "for token in tokenizer.vocab.keys():\n",
        "\n",
        "    # Tally if it's a number.\n",
        "    if token.isdigit():\n",
        "        count += 1\n",
        "        \n",
        "        # Any numbers >= 10,000?\n",
        "        if len(token) > 4:\n",
        "            print(token)\n",
        "\n",
        "print('Vocab includes {:,} numbers.'.format(count))"
      ],
      "execution_count": 0,
      "outputs": [
        {
          "output_type": "stream",
          "text": [
            "Vocab includes 881 numbers.\n"
          ],
          "name": "stdout"
        }
      ]
    },
    {
      "cell_type": "code",
      "metadata": {
        "id": "-M1biDEVYjaL",
        "colab_type": "code",
        "outputId": "80b38422-6d78-404c-deed-887c6efa4cee",
        "colab": {
          "base_uri": "https://localhost:8080/",
          "height": 34
        }
      },
      "source": [
        "# Count how many dates between 1600 and 2021 are included.\n",
        "count = 0 \n",
        "for i in range(1600, 2021):\n",
        "    if str(i) in tokenizer.vocab:\n",
        "        count += 1\n",
        "\n",
        "print('Vocab includes {:,} of 421 dates from 1600 - 2021'.format(count))"
      ],
      "execution_count": 0,
      "outputs": [
        {
          "output_type": "stream",
          "text": [
            "Vocab includes 384 of 421 dates from 1600 - 2021\n"
          ],
          "name": "stdout"
        }
      ]
    }
  ]
}